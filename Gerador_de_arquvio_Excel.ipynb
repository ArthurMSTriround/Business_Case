{
  "nbformat": 4,
  "nbformat_minor": 0,
  "metadata": {
    "colab": {
      "provenance": [],
      "authorship_tag": "ABX9TyNbPfuS0MKFdv9ipWuWiBLM",
      "include_colab_link": true
    },
    "kernelspec": {
      "name": "python3",
      "display_name": "Python 3"
    },
    "language_info": {
      "name": "python"
    }
  },
  "cells": [
    {
      "cell_type": "markdown",
      "metadata": {
        "id": "view-in-github",
        "colab_type": "text"
      },
      "source": [
        "<a href=\"https://colab.research.google.com/github/ArthurMSTriround/Business_Case/blob/main/Gerador_de_arquvio_Excel.ipynb\" target=\"_parent\"><img src=\"https://colab.research.google.com/assets/colab-badge.svg\" alt=\"Open In Colab\"/></a>"
      ]
    },
    {
      "cell_type": "markdown",
      "source": [
        "**# Gerador de arquivo EXCEL**\n",
        "\n",
        "Esse script python busca dados de uma determinada ação na base do YAhoo Finanças e então gera um arquivo Excel."
      ],
      "metadata": {
        "id": "dZNsmCdbXrvC"
      }
    },
    {
      "cell_type": "code",
      "source": [
        "import yfinance as yf\n",
        "\n",
        "def gerar_arquivo_excel(codigo_acao, dt_inicial, dt_final):\n",
        "    dados = yf.download(codigo_acao, start=dt_inicial, end=dt_final)\n",
        "    nome_arquivo = f\"{codigo_acao}_{dt_inicial}_{dt_final}.xlsx\"\n",
        "    dados.to_excel(nome_arquivo)\n",
        "    print(f\"\\nArquivo Excel '{nome_arquivo}' gerado com sucesso!\")\n",
        "\n",
        "print('Seja bem vindo(a) ao gerador de arquivo Excel!')\n",
        "print(\"----------------------------------------------\")\n",
        "codigo_acao = input(\"Digite o código da ação:\")\n",
        "dt_inicial = input(\"Digite a data inicial (AAAA-MM-DD):\")\n",
        "dt_final = input(\"Digite a data final (AAAA-MM-DD):\")\n",
        "gerar_arquivo_excel(codigo_acao, dt_inicial, dt_final)"
      ],
      "metadata": {
        "colab": {
          "base_uri": "https://localhost:8080/"
        },
        "id": "NJk1J5QgX7b7",
        "outputId": "5bc68ace-268b-4004-8560-2bcfef56119c"
      },
      "execution_count": 4,
      "outputs": [
        {
          "name": "stdout",
          "output_type": "stream",
          "text": [
            "Seja bem vindo(a) ao gerador de arquivo Excel!\n",
            "----------------------------------------------\n",
            "Digite o código da ação:PETR4.SA\n",
            "Digite a data inicial (AAAA-MM-DD):2023-06-01\n",
            "Digite a data final (AAAA-MM-DD):2023-12-31\n"
          ]
        },
        {
          "output_type": "stream",
          "name": "stderr",
          "text": [
            "\r[*********************100%***********************]  1 of 1 completed"
          ]
        },
        {
          "output_type": "stream",
          "name": "stdout",
          "text": [
            "\n",
            "Arquivo Excel 'PETR4.SA_2023-06-01_2023-12-31.xlsx' gerado com sucesso!\n"
          ]
        },
        {
          "output_type": "stream",
          "name": "stderr",
          "text": [
            "\n"
          ]
        }
      ]
    }
  ]
}