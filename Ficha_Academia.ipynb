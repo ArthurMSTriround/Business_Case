{
  "nbformat": 4,
  "nbformat_minor": 0,
  "metadata": {
    "colab": {
      "provenance": [],
      "authorship_tag": "ABX9TyPJNL/R+mKuSUQgVpDmzWHO",
      "include_colab_link": true
    },
    "kernelspec": {
      "name": "python3",
      "display_name": "Python 3"
    },
    "language_info": {
      "name": "python"
    }
  },
  "cells": [
    {
      "cell_type": "markdown",
      "metadata": {
        "id": "view-in-github",
        "colab_type": "text"
      },
      "source": [
        "<a href=\"https://colab.research.google.com/github/ArthurMSTriround/Business_Case/blob/main/Ficha_Academia.ipynb\" target=\"_parent\"><img src=\"https://colab.research.google.com/assets/colab-badge.svg\" alt=\"Open In Colab\"/></a>"
      ]
    },
    {
      "cell_type": "markdown",
      "source": [
        "Entrada de dados"
      ],
      "metadata": {
        "id": "s0k7VjaTU1EA"
      }
    },
    {
      "cell_type": "code",
      "source": [
        "nome = str(input(\"Digite o nome do aluno(a): \"))\n",
        "idade = int(input(\"Digite a idade do aluno(a): \"))\n",
        "peso = float(input(\"Digite o peso do aluno(a) (kg):\"))\n",
        "altura = float(input(\"Digite a altura do aluno(a) (m):\"))"
      ],
      "metadata": {
        "colab": {
          "base_uri": "https://localhost:8080/"
        },
        "id": "Q4jOycw9YdvW",
        "outputId": "ff80891b-fcdf-4bba-d608-35242a7ad941"
      },
      "execution_count": 19,
      "outputs": [
        {
          "name": "stdout",
          "output_type": "stream",
          "text": [
            "Digite o nome do aluno(a): Arthur\n",
            "Digite a idade do aluno(a): 26\n",
            "Digite o peso do aluno(a) (kg):80\n",
            "Digite a altura do aluno(a) (m):1.80\n"
          ]
        }
      ]
    },
    {
      "cell_type": "markdown",
      "source": [
        "**Calculando IMC (índice de massa corporal)**"
      ],
      "metadata": {
        "id": "tVka1o7MZgqC"
      }
    },
    {
      "cell_type": "code",
      "source": [
        "IMC = float(peso / (altura ** 2))\n",
        "print(f\"O IMC de {nome} é {IMC:.2f}\")"
      ],
      "metadata": {
        "colab": {
          "base_uri": "https://localhost:8080/"
        },
        "id": "dW7x_f5oZjm5",
        "outputId": "b46b948d-4b06-4015-ba6d-7bda8ed95efd"
      },
      "execution_count": 20,
      "outputs": [
        {
          "output_type": "stream",
          "name": "stdout",
          "text": [
            "O IMC de Arthur é 24.69\n"
          ]
        }
      ]
    },
    {
      "cell_type": "markdown",
      "source": [
        "Criando o status"
      ],
      "metadata": {
        "id": "1MP2Xq2jZvpg"
      }
    },
    {
      "cell_type": "code",
      "source": [
        "status = 'dentro do peso'\n",
        "if IMC > 25:\n",
        "  status = 'sobrepeso'\n",
        "else:\n",
        "  status = 'dentro do peso'\n",
        "print(f\"{nome} está {status}\")"
      ],
      "metadata": {
        "colab": {
          "base_uri": "https://localhost:8080/"
        },
        "id": "x9sjyWO6ZxeH",
        "outputId": "714cf666-e23d-4130-d11f-56f6d0b7e3d6"
      },
      "execution_count": 21,
      "outputs": [
        {
          "output_type": "stream",
          "name": "stdout",
          "text": [
            "Arthur está dentro do peso\n"
          ]
        }
      ]
    },
    {
      "cell_type": "markdown",
      "source": [
        "Gerando PDF"
      ],
      "metadata": {
        "id": "VRwpHWz8bCK1"
      }
    },
    {
      "cell_type": "code",
      "source": [
        "!pip install pdf_reports\n"
      ],
      "metadata": {
        "id": "pSDhUwDNbEHs"
      },
      "execution_count": null,
      "outputs": []
    },
    {
      "cell_type": "code",
      "source": [
        "import pdf_reports"
      ],
      "metadata": {
        "id": "e9IxDJmBbYmu"
      },
      "execution_count": 11,
      "outputs": []
    },
    {
      "cell_type": "code",
      "source": [
        "dados_alunos = {\n",
        "    'nome': nome,\n",
        "    'idade': idade,\n",
        "    'peso': peso,\n",
        "    'altura': altura,\n",
        "    'imc': round(IMC,2),\n",
        "    'status': status\n",
        "}"
      ],
      "metadata": {
        "id": "jyztRaFhcRyO"
      },
      "execution_count": 22,
      "outputs": []
    },
    {
      "cell_type": "code",
      "source": [
        "template = pdf_reports.pug_to_html(\"template.pug\", dados = dados_alunos )"
      ],
      "metadata": {
        "id": "hwcrAmN-bq-8"
      },
      "execution_count": 23,
      "outputs": []
    },
    {
      "cell_type": "code",
      "source": [
        "pdf_reports.write_report(template, \"ficha_aluno.pdf\", use_default_styling=False)"
      ],
      "metadata": {
        "id": "dt4ji3lyc4B0"
      },
      "execution_count": null,
      "outputs": []
    }
  ]
}